{
 "cells": [
  {
   "cell_type": "code",
   "execution_count": 1,
   "id": "4ba84147",
   "metadata": {},
   "outputs": [],
   "source": [
    "import numpy as np\n",
    "import pandas as pd\n",
    "from sklearn.impute import SimpleImputer"
   ]
  },
  {
   "cell_type": "code",
   "execution_count": 3,
   "id": "c6303701",
   "metadata": {},
   "outputs": [],
   "source": [
    "df = pd.read_csv(\"Data.csv\")"
   ]
  },
  {
   "cell_type": "code",
   "execution_count": 4,
   "id": "56ce6b4d",
   "metadata": {},
   "outputs": [
    {
     "data": {
      "text/html": [
       "<div>\n",
       "<style scoped>\n",
       "    .dataframe tbody tr th:only-of-type {\n",
       "        vertical-align: middle;\n",
       "    }\n",
       "\n",
       "    .dataframe tbody tr th {\n",
       "        vertical-align: top;\n",
       "    }\n",
       "\n",
       "    .dataframe thead th {\n",
       "        text-align: right;\n",
       "    }\n",
       "</style>\n",
       "<table border=\"1\" class=\"dataframe\">\n",
       "  <thead>\n",
       "    <tr style=\"text-align: right;\">\n",
       "      <th></th>\n",
       "      <th>Country</th>\n",
       "      <th>Age</th>\n",
       "      <th>Salary</th>\n",
       "      <th>Purchased</th>\n",
       "    </tr>\n",
       "  </thead>\n",
       "  <tbody>\n",
       "    <tr>\n",
       "      <th>0</th>\n",
       "      <td>France</td>\n",
       "      <td>44.0</td>\n",
       "      <td>72000.0</td>\n",
       "      <td>Yes</td>\n",
       "    </tr>\n",
       "    <tr>\n",
       "      <th>1</th>\n",
       "      <td>Spain</td>\n",
       "      <td>27.0</td>\n",
       "      <td>48000.0</td>\n",
       "      <td>Yes</td>\n",
       "    </tr>\n",
       "    <tr>\n",
       "      <th>2</th>\n",
       "      <td>NaN</td>\n",
       "      <td>30.0</td>\n",
       "      <td>54000.0</td>\n",
       "      <td>NaN</td>\n",
       "    </tr>\n",
       "    <tr>\n",
       "      <th>3</th>\n",
       "      <td>Spain</td>\n",
       "      <td>38.0</td>\n",
       "      <td>61000.0</td>\n",
       "      <td>No</td>\n",
       "    </tr>\n",
       "    <tr>\n",
       "      <th>4</th>\n",
       "      <td>Germany</td>\n",
       "      <td>40.0</td>\n",
       "      <td>NaN</td>\n",
       "      <td>Yes</td>\n",
       "    </tr>\n",
       "    <tr>\n",
       "      <th>5</th>\n",
       "      <td>France</td>\n",
       "      <td>35.0</td>\n",
       "      <td>58000.0</td>\n",
       "      <td>Yes</td>\n",
       "    </tr>\n",
       "    <tr>\n",
       "      <th>6</th>\n",
       "      <td>Spain</td>\n",
       "      <td>NaN</td>\n",
       "      <td>52000.0</td>\n",
       "      <td>No</td>\n",
       "    </tr>\n",
       "    <tr>\n",
       "      <th>7</th>\n",
       "      <td>France</td>\n",
       "      <td>48.0</td>\n",
       "      <td>79000.0</td>\n",
       "      <td>Yes</td>\n",
       "    </tr>\n",
       "    <tr>\n",
       "      <th>8</th>\n",
       "      <td>Germany</td>\n",
       "      <td>50.0</td>\n",
       "      <td>83000.0</td>\n",
       "      <td>No</td>\n",
       "    </tr>\n",
       "    <tr>\n",
       "      <th>9</th>\n",
       "      <td>France</td>\n",
       "      <td>37.0</td>\n",
       "      <td>67000.0</td>\n",
       "      <td>Yes</td>\n",
       "    </tr>\n",
       "  </tbody>\n",
       "</table>\n",
       "</div>"
      ],
      "text/plain": [
       "   Country   Age   Salary Purchased\n",
       "0   France  44.0  72000.0       Yes\n",
       "1    Spain  27.0  48000.0       Yes\n",
       "2      NaN  30.0  54000.0       NaN\n",
       "3    Spain  38.0  61000.0        No\n",
       "4  Germany  40.0      NaN       Yes\n",
       "5   France  35.0  58000.0       Yes\n",
       "6    Spain   NaN  52000.0        No\n",
       "7   France  48.0  79000.0       Yes\n",
       "8  Germany  50.0  83000.0        No\n",
       "9   France  37.0  67000.0       Yes"
      ]
     },
     "execution_count": 4,
     "metadata": {},
     "output_type": "execute_result"
    }
   ],
   "source": [
    "df"
   ]
  },
  {
   "cell_type": "code",
   "execution_count": 7,
   "id": "619a7140",
   "metadata": {},
   "outputs": [],
   "source": [
    "imputer = SimpleImputer(missing_values = np.nan,strategy = 'most_frequent')\n",
    "imputer.fit(df.iloc[:,1:2].values)\n",
    "\n",
    "x = imputer.transform(df.iloc[:,1:2].values)"
   ]
  },
  {
   "cell_type": "code",
   "execution_count": 26,
   "id": "3f7e1510",
   "metadata": {},
   "outputs": [
    {
     "data": {
      "text/plain": [
       "array([['France', 44.0, 72000.0, 'Yes'],\n",
       "       ['Spain', 27.0, 48000.0, 'Yes'],\n",
       "       ['France', 30.0, 54000.0, 'Yes'],\n",
       "       ['Spain', 38.0, 61000.0, 'No'],\n",
       "       ['Germany', 40.0, 48000.0, 'Yes'],\n",
       "       ['France', 35.0, 58000.0, 'Yes'],\n",
       "       ['Spain', 27.0, 52000.0, 'No'],\n",
       "       ['France', 48.0, 79000.0, 'Yes'],\n",
       "       ['Germany', 50.0, 83000.0, 'No'],\n",
       "       ['France', 37.0, 67000.0, 'Yes']], dtype=object)"
      ]
     },
     "execution_count": 26,
     "metadata": {},
     "output_type": "execute_result"
    }
   ],
   "source": [
    "x"
   ]
  },
  {
   "cell_type": "code",
   "execution_count": 13,
   "id": "9313215c",
   "metadata": {},
   "outputs": [],
   "source": [
    "imputer = SimpleImputer(missing_values = np.nan,strategy = 'most_frequent')\n",
    "imputer.fit(df.iloc[:,2:3].values)\n",
    "\n",
    "x = imputer.transform(df.iloc[:,2:3].values)"
   ]
  },
  {
   "cell_type": "code",
   "execution_count": 14,
   "id": "b2b02244",
   "metadata": {},
   "outputs": [
    {
     "data": {
      "text/plain": [
       "array([[72000.],\n",
       "       [48000.],\n",
       "       [54000.],\n",
       "       [61000.],\n",
       "       [48000.],\n",
       "       [58000.],\n",
       "       [52000.],\n",
       "       [79000.],\n",
       "       [83000.],\n",
       "       [67000.]])"
      ]
     },
     "execution_count": 14,
     "metadata": {},
     "output_type": "execute_result"
    }
   ],
   "source": [
    "x"
   ]
  },
  {
   "cell_type": "code",
   "execution_count": 15,
   "id": "0833fa19",
   "metadata": {},
   "outputs": [],
   "source": [
    "imputer = SimpleImputer(missing_values = np.nan,strategy = 'most_frequent')\n",
    "imputer.fit(df.iloc[:,:1].values)\n",
    "\n",
    "x = imputer.transform(df.iloc[:,:1].values)"
   ]
  },
  {
   "cell_type": "code",
   "execution_count": 16,
   "id": "31e130c1",
   "metadata": {},
   "outputs": [
    {
     "data": {
      "text/plain": [
       "array([['France'],\n",
       "       ['Spain'],\n",
       "       ['France'],\n",
       "       ['Spain'],\n",
       "       ['Germany'],\n",
       "       ['France'],\n",
       "       ['Spain'],\n",
       "       ['France'],\n",
       "       ['Germany'],\n",
       "       ['France']], dtype=object)"
      ]
     },
     "execution_count": 16,
     "metadata": {},
     "output_type": "execute_result"
    }
   ],
   "source": [
    "x"
   ]
  },
  {
   "cell_type": "code",
   "execution_count": 17,
   "id": "53368ec0",
   "metadata": {},
   "outputs": [],
   "source": [
    "imputer = SimpleImputer(missing_values = np.nan,strategy = 'most_frequent')\n",
    "imputer.fit(df.iloc[:,3:].values)\n",
    "\n",
    "x = imputer.transform(df.iloc[:,3:].values)"
   ]
  },
  {
   "cell_type": "code",
   "execution_count": 18,
   "id": "729efc29",
   "metadata": {},
   "outputs": [
    {
     "data": {
      "text/plain": [
       "array([['Yes'],\n",
       "       ['Yes'],\n",
       "       ['Yes'],\n",
       "       ['No'],\n",
       "       ['Yes'],\n",
       "       ['Yes'],\n",
       "       ['No'],\n",
       "       ['Yes'],\n",
       "       ['No'],\n",
       "       ['Yes']], dtype=object)"
      ]
     },
     "execution_count": 18,
     "metadata": {},
     "output_type": "execute_result"
    }
   ],
   "source": [
    "x"
   ]
  },
  {
   "cell_type": "code",
   "execution_count": 22,
   "id": "407cd788",
   "metadata": {},
   "outputs": [],
   "source": [
    "imputer = SimpleImputer(missing_values = np.nan,strategy = 'most_frequent')\n",
    "imputer.fit(df.values)\n",
    "\n",
    "df = imputer.transform(df.values)"
   ]
  },
  {
   "cell_type": "code",
   "execution_count": 23,
   "id": "7dfcb38d",
   "metadata": {},
   "outputs": [
    {
     "data": {
      "text/plain": [
       "array([['France', 44.0, 72000.0, 'Yes'],\n",
       "       ['Spain', 27.0, 48000.0, 'Yes'],\n",
       "       ['France', 30.0, 54000.0, 'Yes'],\n",
       "       ['Spain', 38.0, 61000.0, 'No'],\n",
       "       ['Germany', 40.0, 48000.0, 'Yes'],\n",
       "       ['France', 35.0, 58000.0, 'Yes'],\n",
       "       ['Spain', 27.0, 52000.0, 'No'],\n",
       "       ['France', 48.0, 79000.0, 'Yes'],\n",
       "       ['Germany', 50.0, 83000.0, 'No'],\n",
       "       ['France', 37.0, 67000.0, 'Yes']], dtype=object)"
      ]
     },
     "execution_count": 23,
     "metadata": {},
     "output_type": "execute_result"
    }
   ],
   "source": [
    "df"
   ]
  }
 ],
 "metadata": {
  "kernelspec": {
   "display_name": "Python 3 (ipykernel)",
   "language": "python",
   "name": "python3"
  },
  "language_info": {
   "codemirror_mode": {
    "name": "ipython",
    "version": 3
   },
   "file_extension": ".py",
   "mimetype": "text/x-python",
   "name": "python",
   "nbconvert_exporter": "python",
   "pygments_lexer": "ipython3",
   "version": "3.10.9"
  }
 },
 "nbformat": 4,
 "nbformat_minor": 5
}
